{
 "cells": [
  {
   "cell_type": "markdown",
   "metadata": {},
   "source": [
    "### Задание 1. \n",
    "Даны значения зарплат из выборки выпускников: 100, 80, 75, 77, 89, 33, 45, 25, 65, 17, 30, 24, 57, 55, 70, 75, 65, 84, 90, 150. \n",
    "Посчитать (желательно без использования статистических методов наподобие std, var, mean) \n",
    "среднее арифметическое, среднее квадратичное отклонение, смещенную и несмещенную оценки дисперсий для данной выборки."
   ]
  },
  {
   "cell_type": "code",
   "execution_count": 26,
   "metadata": {},
   "outputs": [],
   "source": [
    "from math import factorial\n",
    "from numpy import random, mean, var, std\n",
    "import numpy as np\n",
    "import pandas as pd "
   ]
  },
  {
   "cell_type": "code",
   "execution_count": 32,
   "metadata": {},
   "outputs": [
    {
     "name": "stdout",
     "output_type": "stream",
     "text": [
      "среднее арифметическое 65.3\n",
      "среднее квадратичное отклонение 30.823854398825596\n",
      "смещенная оценка дисперсии 950.11\n",
      "несмещенная оценка дисперсии 1000.1157894736842\n",
      "65.3 950.11 30.823854398825596\n"
     ]
    }
   ],
   "source": [
    "a = [100, 80, 75, 77, 89, 33, 45, 25, 65, 17, 30, 24, 57, 55, 70, 75, 65, 84, 90, 150]\n",
    "M = sum(a)/len(a)\n",
    "print(\"среднее арифметическое\",M)\n",
    "# sigma=math.sqrt(sum(a-M)**2)/len(a)\n",
    "df = pd.DataFrame(a) \n",
    "sigma = np.sqrt(((df[0] - df[0].mean())**2).sum() / df[0].count())\n",
    "print(\"среднее квадратичное отклонение\",sigma)\n",
    "sod = ((df[0] - df[0].mean())**2).sum() / df[0].count()\n",
    "print(\"смещенная оценка дисперсии\",sod)\n",
    "nod = ((df[0] - df[0].mean())**2).sum() / (df[0].count() - 1)\n",
    "print(\"несмещенная оценка дисперсии\",nod)\n",
    "\n",
    "xm = mean(a)  # среднее значение\n",
    "xv = var(a)   # дисперсия\n",
    "xs = std(a)   # СКО\n",
    "\n",
    "print(xm,xv,xs)"
   ]
  },
  {
   "cell_type": "markdown",
   "metadata": {},
   "source": [
    "### Задание 2. \n",
    "В первом ящике находится 8 мячей, из которых 5 - белые. Во втором ящике - 12 мячей, из которых 5 белых. \n",
    "Из первого ящика вытаскивают случайным образом два мяча, из второго - 4. Какова вероятность того, что 3 мяча белые?"
   ]
  },
  {
   "cell_type": "code",
   "execution_count": 4,
   "metadata": {},
   "outputs": [
    {
     "name": "stdout",
     "output_type": "stream",
     "text": [
      "0.3686868686868687\n"
     ]
    }
   ],
   "source": [
    "def comb(n,k):\n",
    "    return int(factorial(n)/(factorial(k)*factorial(n-k)))\n",
    "p = 0\n",
    "for i in [0,1,2]:\n",
    "    p += comb(5,0+i)*comb(3,2-i)/comb(8,2)*((comb(5,3-i)*comb(7,1+i))/comb(12,4))\n",
    "print(p)\n"
   ]
  },
  {
   "cell_type": "markdown",
   "metadata": {},
   "source": [
    "### Задание 3. \n",
    "На соревновании по биатлону один из трех спортсменов стреляет и попадает в мишень.\n",
    "Вероятность попадания для первого спортсмена равна 0.9, для второго — 0.8, для третьего — 0.6. \n",
    "Найти вероятность того, что выстрел произведен: \n",
    "a). первым спортсменом б). вторым спортсменом в). третьим спортсменом."
   ]
  },
  {
   "cell_type": "code",
   "execution_count": 8,
   "metadata": {},
   "outputs": [
    {
     "name": "stdout",
     "output_type": "stream",
     "text": [
      "0.391304347826087 0.3478260869565218 0.2608695652173913\n",
      "1.0\n"
     ]
    }
   ],
   "source": [
    "p1 = 0.9\n",
    "p2 = 0.8\n",
    "p3 = 0.6\n",
    "pB = 1/3\n",
    "pA = pB * p1 + pB * p2 + pB * p3\n",
    "p1 = pB*p1/pA\n",
    "p2 = pB*p2/pA\n",
    "p3 = pB*p3/pA\n",
    "print(p1,p2,p3)\n",
    "print(p1+p2+p3)"
   ]
  },
  {
   "cell_type": "markdown",
   "metadata": {},
   "source": [
    "### Задание 4. \n",
    "В университет на факультеты A и B поступило равное количество студентов, \n",
    "а на факультет C студентов поступило столько же, сколько на A и B вместе.\n",
    "Вероятность того, что студент факультета A сдаст первую сессию, равна 0.8. \n",
    "Для студента факультета B эта вероятность равна 0.7, а для студента факультета C - 0.9.\n",
    "Студент сдал первую сессию. Какова вероятность, что он учится: \n",
    "a). на факультете A б). на факультете B в). на факультете C?"
   ]
  },
  {
   "cell_type": "code",
   "execution_count": 9,
   "metadata": {},
   "outputs": [
    {
     "data": {
      "text/plain": [
       "0.825"
      ]
     },
     "execution_count": 9,
     "metadata": {},
     "output_type": "execute_result"
    }
   ],
   "source": [
    "pA = 0.8\n",
    "pB = 0.7\n",
    "pC = 0.9\n",
    "xAB = 1/4\n",
    "xC = 1/2\n",
    "P = xAB * pA + xAB * pB + xC * pC\n",
    "P"
   ]
  },
  {
   "cell_type": "code",
   "execution_count": 11,
   "metadata": {},
   "outputs": [
    {
     "data": {
      "text/plain": [
       "0.24242424242424246"
      ]
     },
     "execution_count": 11,
     "metadata": {},
     "output_type": "execute_result"
    }
   ],
   "source": [
    "A = xAB*pA/P\n",
    "A"
   ]
  },
  {
   "cell_type": "code",
   "execution_count": 12,
   "metadata": {},
   "outputs": [
    {
     "data": {
      "text/plain": [
       "0.21212121212121213"
      ]
     },
     "execution_count": 12,
     "metadata": {},
     "output_type": "execute_result"
    }
   ],
   "source": [
    "B = xAB*pB/P\n",
    "B"
   ]
  },
  {
   "cell_type": "code",
   "execution_count": 13,
   "metadata": {},
   "outputs": [
    {
     "data": {
      "text/plain": [
       "0.5454545454545455"
      ]
     },
     "execution_count": 13,
     "metadata": {},
     "output_type": "execute_result"
    }
   ],
   "source": [
    "C = xC*pC/P\n",
    "C"
   ]
  },
  {
   "cell_type": "markdown",
   "metadata": {},
   "source": [
    "### Задание 5. \n",
    "Устройство состоит из трех деталей. Для первой детали вероятность выйти из строя в первый месяц равна 0.1, для второй - 0.2, для третьей - 0.25. \n",
    "Какова вероятность того, что в первый месяц выйдут из строя: \n",
    "а). все детали б). только две детали в). хотя бы одна деталь г). от одной до двух деталей?"
   ]
  },
  {
   "cell_type": "code",
   "execution_count": 14,
   "metadata": {},
   "outputs": [
    {
     "name": "stdout",
     "output_type": "stream",
     "text": [
      "все детали =  0.005000000000000001\n"
     ]
    }
   ],
   "source": [
    "print(\"все детали = \", 0.1 * 0.2 * 0.25)"
   ]
  },
  {
   "cell_type": "code",
   "execution_count": 15,
   "metadata": {},
   "outputs": [
    {
     "name": "stdout",
     "output_type": "stream",
     "text": [
      "только две детали =  0.08\n"
     ]
    }
   ],
   "source": [
    "print(\"только две детали = \", 0.9 * 0.2 * 0.25 + 0.8 * 0.1 * 0.25 + 0.75 * 0.2 * 0.1)"
   ]
  },
  {
   "cell_type": "code",
   "execution_count": 16,
   "metadata": {},
   "outputs": [
    {
     "name": "stdout",
     "output_type": "stream",
     "text": [
      "хотя бы одна деталь =  0.45999999999999996\n"
     ]
    }
   ],
   "source": [
    "print(\"хотя бы одна деталь = \", 1 - 0.9 * 0.8 * 0.75)"
   ]
  },
  {
   "cell_type": "code",
   "execution_count": 17,
   "metadata": {},
   "outputs": [
    {
     "name": "stdout",
     "output_type": "stream",
     "text": [
      "от одной до двух деталей =  0.45539999999999997\n"
     ]
    }
   ],
   "source": [
    "print(\"от одной до двух деталей = \", 1 - 0.9 * 0.8 * 0.75 - 0.1 * 0.2 * 0.23)"
   ]
  }
 ],
 "metadata": {
  "kernelspec": {
   "display_name": "Python 3",
   "language": "python",
   "name": "python3"
  },
  "language_info": {
   "codemirror_mode": {
    "name": "ipython",
    "version": 3
   },
   "file_extension": ".py",
   "mimetype": "text/x-python",
   "name": "python",
   "nbconvert_exporter": "python",
   "pygments_lexer": "ipython3",
   "version": "3.7.3"
  }
 },
 "nbformat": 4,
 "nbformat_minor": 2
}
