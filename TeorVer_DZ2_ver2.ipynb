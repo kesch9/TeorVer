{
 "cells": [
  {
   "cell_type": "markdown",
   "metadata": {},
   "source": [
    "### Задание 1\n",
    "Вероятность того, что стрелок попадет в мишень, выстрелив один раз, равна 0.8. Стрелок выстрелил 100 раз. Найдите вероятность того, что стрелок попадет в цель ровно 85 раз."
   ]
  },
  {
   "cell_type": "code",
   "execution_count": 2,
   "metadata": {},
   "outputs": [],
   "source": [
    "import math\n",
    "### Теорема Пуассона\n",
    "def Puasson(p,n,m):\n",
    "    l = n * p\n",
    "    P = l ** m/ math.factorial(m) * math.e**(-l)\n",
    "    print (\"P = \", P)\n",
    "    return P\n",
    "### Теорема Бернулли\n",
    "def Bernulli(n,k,p,q):\n",
    "    C = math.factorial(n) / (math.factorial(k) * math.factorial(n-k))\n",
    "    P = C * p**k * q**(n-k)\n",
    "    print ('C = ', C)\n",
    "    print ('P = ', P)\n",
    "    return P"
   ]
  },
  {
   "cell_type": "code",
   "execution_count": 2,
   "metadata": {},
   "outputs": [
    {
     "name": "stdout",
     "output_type": "stream",
     "text": [
      "P =  0.037092614343691946\n"
     ]
    },
    {
     "data": {
      "text/plain": [
       "0.037092614343691946"
      ]
     },
     "execution_count": 2,
     "metadata": {},
     "output_type": "execute_result"
    }
   ],
   "source": [
    "### Теорема Пуассона\n",
    "p = 0.8\n",
    "n = 100\n",
    "m = 85\n",
    "Puasson(p,n,m)"
   ]
  },
  {
   "cell_type": "code",
   "execution_count": 3,
   "metadata": {},
   "outputs": [
    {
     "name": "stdout",
     "output_type": "stream",
     "text": [
      "C =  2.5333847134998864e+17\n",
      "P =  0.048061793700746556\n"
     ]
    },
    {
     "data": {
      "text/plain": [
       "0.048061793700746556"
      ]
     },
     "execution_count": 3,
     "metadata": {},
     "output_type": "execute_result"
    }
   ],
   "source": [
    "### Формула Бернулли\n",
    "n = 100\n",
    "k = 85\n",
    "p = 0.8\n",
    "q = 0.2\n",
    "Bernulli(n,k,p,q)"
   ]
  },
  {
   "cell_type": "markdown",
   "metadata": {},
   "source": [
    "### Задание 2\n",
    "Вероятность того, что лампочка перегорит в течение первого дня эксплуатации, равна 0.0004. В жилом комплексе после ремонта в один день включили 5000 новых лампочек. Какова вероятность, что ни одна из них не перегорит в первый день? Какова вероятность, что перегорят ровно две?"
   ]
  },
  {
   "cell_type": "code",
   "execution_count": 4,
   "metadata": {},
   "outputs": [
    {
     "name": "stdout",
     "output_type": "stream",
     "text": [
      "P =  0.1353352832366127\n",
      "Вероятность что ни одна не перегорит лампочка =  0.1353352832366127\n",
      "P =  0.2706705664732254\n",
      "Вероятность что две лампочки перегорят =  0.2706705664732254\n"
     ]
    }
   ],
   "source": [
    "### Теорема Пуассона\n",
    "p = 0.0004\n",
    "n = 5000\n",
    "l = n * p\n",
    "m = 0\n",
    "print(\"Вероятность что ни одна не перегорит лампочка = \", Puasson(p,n,m))\n",
    "m = 2\n",
    "print(\"Вероятность что две лампочки перегорят = \", Puasson(p,n,m))"
   ]
  },
  {
   "cell_type": "markdown",
   "metadata": {},
   "source": [
    "### Задание 3\n",
    "Монету подбросили 144 раза. Какова вероятность, что орел выпадет ровно 70 раз?"
   ]
  },
  {
   "cell_type": "code",
   "execution_count": 5,
   "metadata": {},
   "outputs": [
    {
     "name": "stdout",
     "output_type": "stream",
     "text": [
      "C =  1.4007495090837087e+42\n",
      "P =  0.06281178035144776\n"
     ]
    },
    {
     "data": {
      "text/plain": [
       "0.06281178035144776"
      ]
     },
     "execution_count": 5,
     "metadata": {},
     "output_type": "execute_result"
    }
   ],
   "source": [
    "### Формула Бернулли\n",
    "n = 144\n",
    "k = 70\n",
    "p = q = 0.5\n",
    "Bernulli(n,k,p,q)"
   ]
  },
  {
   "cell_type": "markdown",
   "metadata": {},
   "source": [
    "### Задание 4\n",
    "В первом ящике находится 10 мячей, из которых 7 - белые. Во втором ящике - 11 мячей, из которых 9 белых. Из каждого ящика вытаскивают случайным образом по два мяча. Какова вероятность того, что все мячи белые? Какова вероятность того, что ровно два мяча белые? Какова вероятность того, что хотя бы один мяч белый?"
   ]
  },
  {
   "cell_type": "code",
   "execution_count": 15,
   "metadata": {},
   "outputs": [
    {
     "name": "stdout",
     "output_type": "stream",
     "text": [
      "Какова вероятность того, что все мячи белые?\n",
      "0.4666666666666667\n",
      "0.6545454545454545\n",
      "Вероятность того, что все мячи белые =  0.5606060606060606\n",
      "Какова вероятность того, что ровно два мяча белые?\n",
      "2 из первого ящика и 0 из второго 0.23333333333333334\n",
      "0 из первого ящика и 2 из второго 0.32727272727272727\n",
      "1 из первого ящика и 1 из второго 0.759090909090909\n",
      "Вероятность того, что ровно два мяча белые=  0.43989898989898985\n",
      "Какова вероятность того, что хотя бы один мяч белый?\n",
      "0.7\n",
      "0.8181818181818182\n",
      "Вероятность того, что хотя бы один мяч белый=  0.759090909090909\n"
     ]
    }
   ],
   "source": [
    "print(\"Какова вероятность того, что все мячи белые?\") \n",
    "C7 = math.factorial(7)/(math.factorial(2)*math.factorial(7-2))\n",
    "C10 = math.factorial(10)/(math.factorial(2)*math.factorial(10-2))\n",
    "P1 = C7/C10\n",
    "print(P1)\n",
    "C9 = math.factorial(9)/(math.factorial(2)*math.factorial(9-2))\n",
    "C11 = math.factorial(11)/(math.factorial(2)*math.factorial(11-2))\n",
    "P2 = C9/C11\n",
    "print(P2)\n",
    "P = (P1+P2)/2\n",
    "print(\"Вероятность того, что все мячи белые = \", P)\n",
    "print(\"Какова вероятность того, что ровно два мяча белые?\") \n",
    "C7 = math.factorial(7)/(math.factorial(2)*math.factorial(7-2))\n",
    "C10 = math.factorial(10)/(math.factorial(2)*math.factorial(10-2))\n",
    "P1 = C7/C10/2\n",
    "print(\"2 из первого ящика и 0 из второго\",P1)\n",
    "C9 = math.factorial(9)/(math.factorial(2)*math.factorial(9-2))\n",
    "C11 = math.factorial(11)/(math.factorial(2)*math.factorial(11-2))\n",
    "P2 = C9/C11/2\n",
    "print(\"0 из первого ящика и 2 из второго\",P2)\n",
    "C7 = math.factorial(7)/(math.factorial(1)*math.factorial(7-1))\n",
    "C10 = math.factorial(10)/(math.factorial(1)*math.factorial(10-1))\n",
    "P3 = C7/C10\n",
    "C9 = math.factorial(9)/(math.factorial(1)*math.factorial(9-1))\n",
    "C11 = math.factorial(11)/(math.factorial(1)*math.factorial(11-1))\n",
    "P4 = C9/C11\n",
    "P5 = (P3+P4)/2\n",
    "print(\"1 из первого ящика и 1 из второго\",P5)\n",
    "P = (P1+P2+P5)/3\n",
    "print(\"Вероятность того, что ровно два мяча белые= \", P)\n",
    "print(\"Какова вероятность того, что хотя бы один мяч белый?\") \n",
    "C7 = math.factorial(7)/(math.factorial(1)*math.factorial(7-1))\n",
    "C10 = math.factorial(10)/(math.factorial(1)*math.factorial(10-1))\n",
    "P1 = C7/C10\n",
    "print(P1)\n",
    "C9 = math.factorial(9)/(math.factorial(1)*math.factorial(9-1))\n",
    "C11 = math.factorial(11)/(math.factorial(1)*math.factorial(11-1))\n",
    "P2 = C9/C11\n",
    "print(P2)\n",
    "P = (P1+P2)/2\n",
    "print(\"Вероятность того, что хотя бы один мяч белый= \", P)\n"
   ]
  }
 ],
 "metadata": {
  "kernelspec": {
   "display_name": "Python 3",
   "language": "python",
   "name": "python3"
  },
  "language_info": {
   "codemirror_mode": {
    "name": "ipython",
    "version": 3
   },
   "file_extension": ".py",
   "mimetype": "text/x-python",
   "name": "python",
   "nbconvert_exporter": "python",
   "pygments_lexer": "ipython3",
   "version": "3.7.3"
  }
 },
 "nbformat": 4,
 "nbformat_minor": 2
}
